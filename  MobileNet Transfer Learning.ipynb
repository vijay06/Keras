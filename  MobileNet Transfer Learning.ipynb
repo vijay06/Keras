{
 "cells": [
  {
   "cell_type": "markdown",
   "metadata": {},
   "source": [
    "# MOBILENET"
   ]
  },
  {
   "cell_type": "code",
   "execution_count": 1,
   "metadata": {},
   "outputs": [
    {
     "name": "stderr",
     "output_type": "stream",
     "text": [
      "Using TensorFlow backend.\n"
     ]
    }
   ],
   "source": [
    "import keras"
   ]
  },
  {
   "cell_type": "code",
   "execution_count": 2,
   "metadata": {
    "collapsed": true
   },
   "outputs": [],
   "source": [
    "import numpy as np\n",
    "from keras import backend as k\n",
    "from keras.layers.core import Dense\n",
    "from keras.optimizers import adam\n",
    "from keras.metrics import categorical_crossentropy\n",
    "from keras.preprocessing.image import ImageDataGenerator\n",
    "from keras.preprocessing import image\n",
    "from keras.models import Model\n",
    "from keras.applications import imagenet_utils\n",
    "from sklearn.metrics import confusion_matrix\n",
    "import itertools\n",
    "import matplotlib.pyplot as plt\n",
    "%matplotlib inline"
   ]
  },
  {
   "cell_type": "code",
   "execution_count": 3,
   "metadata": {
    "collapsed": true
   },
   "outputs": [],
   "source": [
    "mobile = keras.applications.mobilenet.MobileNet()"
   ]
  },
  {
   "cell_type": "code",
   "execution_count": 4,
   "metadata": {
    "collapsed": true
   },
   "outputs": [],
   "source": [
    "def prepare_image(file):\n",
    "    img_path = 'Data/'\n",
    "    img = image.load_img(img_path + file ,target_size=(224,224))\n",
    "    img_array =image.img_to_array(img)\n",
    "    img_array_expanded_dims =np.expand_dims(img_array,axis=0)\n",
    "    return keras.applications.mobilenet.preprocess_input(img_array_expanded_dims)\n"
   ]
  },
  {
   "cell_type": "code",
   "execution_count": 5,
   "metadata": {},
   "outputs": [
    {
     "data": {
      "image/jpeg": "[encoded data removed]",
      "text/plain": [
       "<IPython.core.display.Image object>"
      ]
     },
     "execution_count": 5,
     "metadata": {},
     "output_type": "execute_result"
    }
   ],
   "source": [
    "from IPython.display import Image\n",
    "Image(filename='Data/test1.jpeg')"
   ]
  },
  {
   "cell_type": "code",
   "execution_count": 6,
   "metadata": {},
   "outputs": [
    {
     "data": {
      "text/plain": [
       "[[('n01664065', 'loggerhead', 0.6489132),\n",
       "  ('n01667778', 'terrapin', 0.32815835),\n",
       "  ('n01665541', 'leatherback_turtle', 0.019288111),\n",
       "  ('n01667114', 'mud_turtle', 0.0013446992),\n",
       "  ('n01695060', 'Komodo_dragon', 0.0009666966)]]"
      ]
     },
     "execution_count": 6,
     "metadata": {},
     "output_type": "execute_result"
    }
   ],
   "source": [
    "preprocessed_image = prepare_image('test1.jpeg')\n",
    "predictions =mobile.predict(preprocessed_image)\n",
    "result=imagenet_utils.decode_predictions(predictions)\n",
    "result"
   ]
  },
  {
   "cell_type": "markdown",
   "metadata": {},
   "source": [
    "# MobileNet Fine-Tune (Transfer Learning)"
   ]
  },
  {
   "cell_type": "code",
   "execution_count": 11,
   "metadata": {
    "collapsed": true
   },
   "outputs": [],
   "source": [
    "train_path = '/home/vijay/Desktop/Dataworld/github/keras/Data/BloodCells/images/TRAIN'\n",
    "test_path = '/home/vijay/Desktop/Dataworld/github/keras/Data/BloodCells/images/TEST'\n",
    "valid_path = '/home/vijay/Desktop/Dataworld/github/keras/Data/BloodCells/images/TEST_SIMPLE'"
   ]
  },
  {
   "cell_type": "code",
   "execution_count": 12,
   "metadata": {},
   "outputs": [
    {
     "name": "stdout",
     "output_type": "stream",
     "text": [
      "Found 9957 images belonging to 4 classes.\n"
     ]
    }
   ],
   "source": [
    "train_batches = ImageDataGenerator(preprocessing_function=keras.applications.mobilenet.preprocess_input).flow_from_directory(\n",
    "train_path, target_size=(224,224),batch_size=10)"
   ]
  },
  {
   "cell_type": "code",
   "execution_count": 16,
   "metadata": {},
   "outputs": [
    {
     "name": "stdout",
     "output_type": "stream",
     "text": [
      "Found 2487 images belonging to 4 classes.\n"
     ]
    }
   ],
   "source": [
    "test_batches = ImageDataGenerator(preprocessing_function=keras.applications.mobilenet.preprocess_input).flow_from_directory(\n",
    "test_path, target_size=(224,224),batch_size=10,shuffle= False)"
   ]
  },
  {
   "cell_type": "code",
   "execution_count": 14,
   "metadata": {},
   "outputs": [
    {
     "name": "stdout",
     "output_type": "stream",
     "text": [
      "Found 71 images belonging to 4 classes.\n"
     ]
    }
   ],
   "source": [
    "valid_batches = ImageDataGenerator(preprocessing_function=keras.applications.mobilenet.preprocess_input).flow_from_directory(\n",
    "valid_path, target_size=(224,224),batch_size=10)"
   ]
  },
  {
   "cell_type": "markdown",
   "metadata": {},
   "source": [
    "# Modify Model"
   ]
  },
  {
   "cell_type": "code",
   "execution_count": 15,
   "metadata": {},
   "outputs": [
    {
     "name": "stdout",
     "output_type": "stream",
     "text": [
      "_________________________________________________________________\n",
      "Layer (type)                 Output Shape              Param #   \n",
      "=================================================================\n",
      "input_1 (InputLayer)         (None, 224, 224, 3)       0         \n",
      "_________________________________________________________________\n",
      "conv1_pad (ZeroPadding2D)    (None, 226, 226, 3)       0         \n",
      "_________________________________________________________________\n",
      "conv1 (Conv2D)               (None, 112, 112, 32)      864       \n",
      "_________________________________________________________________\n",
      "conv1_bn (BatchNormalization (None, 112, 112, 32)      128       \n",
      "_________________________________________________________________\n",
      "conv1_relu (Activation)      (None, 112, 112, 32)      0         \n",
      "_________________________________________________________________\n",
      "conv_pad_1 (ZeroPadding2D)   (None, 114, 114, 32)      0         \n",
      "_________________________________________________________________\n",
      "conv_dw_1 (DepthwiseConv2D)  (None, 112, 112, 32)      288       \n",
      "_________________________________________________________________\n",
      "conv_dw_1_bn (BatchNormaliza (None, 112, 112, 32)      128       \n",
      "_________________________________________________________________\n",
      "conv_dw_1_relu (Activation)  (None, 112, 112, 32)      0         \n",
      "_________________________________________________________________\n",
      "conv_pw_1 (Conv2D)           (None, 112, 112, 64)      2048      \n",
      "_________________________________________________________________\n",
      "conv_pw_1_bn (BatchNormaliza (None, 112, 112, 64)      256       \n",
      "_________________________________________________________________\n",
      "conv_pw_1_relu (Activation)  (None, 112, 112, 64)      0         \n",
      "_________________________________________________________________\n",
      "conv_pad_2 (ZeroPadding2D)   (None, 114, 114, 64)      0         \n",
      "_________________________________________________________________\n",
      "conv_dw_2 (DepthwiseConv2D)  (None, 56, 56, 64)        576       \n",
      "_________________________________________________________________\n",
      "conv_dw_2_bn (BatchNormaliza (None, 56, 56, 64)        256       \n",
      "_________________________________________________________________\n",
      "conv_dw_2_relu (Activation)  (None, 56, 56, 64)        0         \n",
      "_________________________________________________________________\n",
      "conv_pw_2 (Conv2D)           (None, 56, 56, 128)       8192      \n",
      "_________________________________________________________________\n",
      "conv_pw_2_bn (BatchNormaliza (None, 56, 56, 128)       512       \n",
      "_________________________________________________________________\n",
      "conv_pw_2_relu (Activation)  (None, 56, 56, 128)       0         \n",
      "_________________________________________________________________\n",
      "conv_pad_3 (ZeroPadding2D)   (None, 58, 58, 128)       0         \n",
      "_________________________________________________________________\n",
      "conv_dw_3 (DepthwiseConv2D)  (None, 56, 56, 128)       1152      \n",
      "_________________________________________________________________\n",
      "conv_dw_3_bn (BatchNormaliza (None, 56, 56, 128)       512       \n",
      "_________________________________________________________________\n",
      "conv_dw_3_relu (Activation)  (None, 56, 56, 128)       0         \n",
      "_________________________________________________________________\n",
      "conv_pw_3 (Conv2D)           (None, 56, 56, 128)       16384     \n",
      "_________________________________________________________________\n",
      "conv_pw_3_bn (BatchNormaliza (None, 56, 56, 128)       512       \n",
      "_________________________________________________________________\n",
      "conv_pw_3_relu (Activation)  (None, 56, 56, 128)       0         \n",
      "_________________________________________________________________\n",
      "conv_pad_4 (ZeroPadding2D)   (None, 58, 58, 128)       0         \n",
      "_________________________________________________________________\n",
      "conv_dw_4 (DepthwiseConv2D)  (None, 28, 28, 128)       1152      \n",
      "_________________________________________________________________\n",
      "conv_dw_4_bn (BatchNormaliza (None, 28, 28, 128)       512       \n",
      "_________________________________________________________________\n",
      "conv_dw_4_relu (Activation)  (None, 28, 28, 128)       0         \n",
      "_________________________________________________________________\n",
      "conv_pw_4 (Conv2D)           (None, 28, 28, 256)       32768     \n",
      "_________________________________________________________________\n",
      "conv_pw_4_bn (BatchNormaliza (None, 28, 28, 256)       1024      \n",
      "_________________________________________________________________\n",
      "conv_pw_4_relu (Activation)  (None, 28, 28, 256)       0         \n",
      "_________________________________________________________________\n",
      "conv_pad_5 (ZeroPadding2D)   (None, 30, 30, 256)       0         \n",
      "_________________________________________________________________\n",
      "conv_dw_5 (DepthwiseConv2D)  (None, 28, 28, 256)       2304      \n",
      "_________________________________________________________________\n",
      "conv_dw_5_bn (BatchNormaliza (None, 28, 28, 256)       1024      \n",
      "_________________________________________________________________\n",
      "conv_dw_5_relu (Activation)  (None, 28, 28, 256)       0         \n",
      "_________________________________________________________________\n",
      "conv_pw_5 (Conv2D)           (None, 28, 28, 256)       65536     \n",
      "_________________________________________________________________\n",
      "conv_pw_5_bn (BatchNormaliza (None, 28, 28, 256)       1024      \n",
      "_________________________________________________________________\n",
      "conv_pw_5_relu (Activation)  (None, 28, 28, 256)       0         \n",
      "_________________________________________________________________\n",
      "conv_pad_6 (ZeroPadding2D)   (None, 30, 30, 256)       0         \n",
      "_________________________________________________________________\n",
      "conv_dw_6 (DepthwiseConv2D)  (None, 14, 14, 256)       2304      \n",
      "_________________________________________________________________\n",
      "conv_dw_6_bn (BatchNormaliza (None, 14, 14, 256)       1024      \n",
      "_________________________________________________________________\n",
      "conv_dw_6_relu (Activation)  (None, 14, 14, 256)       0         \n",
      "_________________________________________________________________\n",
      "conv_pw_6 (Conv2D)           (None, 14, 14, 512)       131072    \n",
      "_________________________________________________________________\n",
      "conv_pw_6_bn (BatchNormaliza (None, 14, 14, 512)       2048      \n",
      "_________________________________________________________________\n",
      "conv_pw_6_relu (Activation)  (None, 14, 14, 512)       0         \n",
      "_________________________________________________________________\n",
      "conv_pad_7 (ZeroPadding2D)   (None, 16, 16, 512)       0         \n",
      "_________________________________________________________________\n",
      "conv_dw_7 (DepthwiseConv2D)  (None, 14, 14, 512)       4608      \n",
      "_________________________________________________________________\n",
      "conv_dw_7_bn (BatchNormaliza (None, 14, 14, 512)       2048      \n",
      "_________________________________________________________________\n",
      "conv_dw_7_relu (Activation)  (None, 14, 14, 512)       0         \n",
      "_________________________________________________________________\n",
      "conv_pw_7 (Conv2D)           (None, 14, 14, 512)       262144    \n",
      "_________________________________________________________________\n",
      "conv_pw_7_bn (BatchNormaliza (None, 14, 14, 512)       2048      \n",
      "_________________________________________________________________\n",
      "conv_pw_7_relu (Activation)  (None, 14, 14, 512)       0         \n",
      "_________________________________________________________________\n",
      "conv_pad_8 (ZeroPadding2D)   (None, 16, 16, 512)       0         \n",
      "_________________________________________________________________\n",
      "conv_dw_8 (DepthwiseConv2D)  (None, 14, 14, 512)       4608      \n",
      "_________________________________________________________________\n",
      "conv_dw_8_bn (BatchNormaliza (None, 14, 14, 512)       2048      \n",
      "_________________________________________________________________\n",
      "conv_dw_8_relu (Activation)  (None, 14, 14, 512)       0         \n",
      "_________________________________________________________________\n",
      "conv_pw_8 (Conv2D)           (None, 14, 14, 512)       262144    \n",
      "_________________________________________________________________\n",
      "conv_pw_8_bn (BatchNormaliza (None, 14, 14, 512)       2048      \n",
      "_________________________________________________________________\n",
      "conv_pw_8_relu (Activation)  (None, 14, 14, 512)       0         \n",
      "_________________________________________________________________\n",
      "conv_pad_9 (ZeroPadding2D)   (None, 16, 16, 512)       0         \n",
      "_________________________________________________________________\n",
      "conv_dw_9 (DepthwiseConv2D)  (None, 14, 14, 512)       4608      \n",
      "_________________________________________________________________\n",
      "conv_dw_9_bn (BatchNormaliza (None, 14, 14, 512)       2048      \n",
      "_________________________________________________________________\n",
      "conv_dw_9_relu (Activation)  (None, 14, 14, 512)       0         \n",
      "_________________________________________________________________\n",
      "conv_pw_9 (Conv2D)           (None, 14, 14, 512)       262144    \n",
      "_________________________________________________________________\n",
      "conv_pw_9_bn (BatchNormaliza (None, 14, 14, 512)       2048      \n",
      "_________________________________________________________________\n",
      "conv_pw_9_relu (Activation)  (None, 14, 14, 512)       0         \n",
      "_________________________________________________________________\n",
      "conv_pad_10 (ZeroPadding2D)  (None, 16, 16, 512)       0         \n",
      "_________________________________________________________________\n",
      "conv_dw_10 (DepthwiseConv2D) (None, 14, 14, 512)       4608      \n",
      "_________________________________________________________________\n",
      "conv_dw_10_bn (BatchNormaliz (None, 14, 14, 512)       2048      \n",
      "_________________________________________________________________\n",
      "conv_dw_10_relu (Activation) (None, 14, 14, 512)       0         \n",
      "_________________________________________________________________\n",
      "conv_pw_10 (Conv2D)          (None, 14, 14, 512)       262144    \n",
      "_________________________________________________________________\n",
      "conv_pw_10_bn (BatchNormaliz (None, 14, 14, 512)       2048      \n",
      "_________________________________________________________________\n",
      "conv_pw_10_relu (Activation) (None, 14, 14, 512)       0         \n",
      "_________________________________________________________________\n",
      "conv_pad_11 (ZeroPadding2D)  (None, 16, 16, 512)       0         \n",
      "_________________________________________________________________\n",
      "conv_dw_11 (DepthwiseConv2D) (None, 14, 14, 512)       4608      \n",
      "_________________________________________________________________\n",
      "conv_dw_11_bn (BatchNormaliz (None, 14, 14, 512)       2048      \n",
      "_________________________________________________________________\n",
      "conv_dw_11_relu (Activation) (None, 14, 14, 512)       0         \n",
      "_________________________________________________________________\n",
      "conv_pw_11 (Conv2D)          (None, 14, 14, 512)       262144    \n",
      "_________________________________________________________________\n",
      "conv_pw_11_bn (BatchNormaliz (None, 14, 14, 512)       2048      \n",
      "_________________________________________________________________\n",
      "conv_pw_11_relu (Activation) (None, 14, 14, 512)       0         \n",
      "_________________________________________________________________\n",
      "conv_pad_12 (ZeroPadding2D)  (None, 16, 16, 512)       0         \n",
      "_________________________________________________________________\n",
      "conv_dw_12 (DepthwiseConv2D) (None, 7, 7, 512)         4608      \n",
      "_________________________________________________________________\n",
      "conv_dw_12_bn (BatchNormaliz (None, 7, 7, 512)         2048      \n",
      "_________________________________________________________________\n",
      "conv_dw_12_relu (Activation) (None, 7, 7, 512)         0         \n",
      "_________________________________________________________________\n",
      "conv_pw_12 (Conv2D)          (None, 7, 7, 1024)        524288    \n",
      "_________________________________________________________________\n",
      "conv_pw_12_bn (BatchNormaliz (None, 7, 7, 1024)        4096      \n",
      "_________________________________________________________________\n",
      "conv_pw_12_relu (Activation) (None, 7, 7, 1024)        0         \n",
      "_________________________________________________________________\n",
      "conv_pad_13 (ZeroPadding2D)  (None, 9, 9, 1024)        0         \n",
      "_________________________________________________________________\n",
      "conv_dw_13 (DepthwiseConv2D) (None, 7, 7, 1024)        9216      \n",
      "_________________________________________________________________\n",
      "conv_dw_13_bn (BatchNormaliz (None, 7, 7, 1024)        4096      \n",
      "_________________________________________________________________\n",
      "conv_dw_13_relu (Activation) (None, 7, 7, 1024)        0         \n",
      "_________________________________________________________________\n",
      "conv_pw_13 (Conv2D)          (None, 7, 7, 1024)        1048576   \n",
      "_________________________________________________________________\n",
      "conv_pw_13_bn (BatchNormaliz (None, 7, 7, 1024)        4096      \n",
      "_________________________________________________________________\n",
      "conv_pw_13_relu (Activation) (None, 7, 7, 1024)        0         \n",
      "_________________________________________________________________\n",
      "global_average_pooling2d_1 ( (None, 1024)              0         \n",
      "_________________________________________________________________\n",
      "reshape_1 (Reshape)          (None, 1, 1, 1024)        0         \n",
      "_________________________________________________________________\n",
      "dropout (Dropout)            (None, 1, 1, 1024)        0         \n",
      "_________________________________________________________________\n",
      "conv_preds (Conv2D)          (None, 1, 1, 1000)        1025000   \n",
      "_________________________________________________________________\n",
      "act_softmax (Activation)     (None, 1, 1, 1000)        0         \n",
      "_________________________________________________________________\n",
      "reshape_2 (Reshape)          (None, 1000)              0         \n",
      "=================================================================\n",
      "Total params: 4,253,864\n",
      "Trainable params: 4,231,976\n",
      "Non-trainable params: 21,888\n",
      "_________________________________________________________________\n"
     ]
    }
   ],
   "source": [
    "mobile.summary()"
   ]
  },
  {
   "cell_type": "code",
   "execution_count": 17,
   "metadata": {
    "collapsed": true
   },
   "outputs": [],
   "source": [
    "x= mobile.layers[-6].output\n",
    "predictions = Dense(4,activation='softmax')(x)\n",
    "model = Model(inputs=mobile.input,outputs=predictions)"
   ]
  },
  {
   "cell_type": "code",
   "execution_count": 18,
   "metadata": {},
   "outputs": [
    {
     "name": "stdout",
     "output_type": "stream",
     "text": [
      "_________________________________________________________________\n",
      "Layer (type)                 Output Shape              Param #   \n",
      "=================================================================\n",
      "input_1 (InputLayer)         (None, 224, 224, 3)       0         \n",
      "_________________________________________________________________\n",
      "conv1_pad (ZeroPadding2D)    (None, 226, 226, 3)       0         \n",
      "_________________________________________________________________\n",
      "conv1 (Conv2D)               (None, 112, 112, 32)      864       \n",
      "_________________________________________________________________\n",
      "conv1_bn (BatchNormalization (None, 112, 112, 32)      128       \n",
      "_________________________________________________________________\n",
      "conv1_relu (Activation)      (None, 112, 112, 32)      0         \n",
      "_________________________________________________________________\n",
      "conv_pad_1 (ZeroPadding2D)   (None, 114, 114, 32)      0         \n",
      "_________________________________________________________________\n",
      "conv_dw_1 (DepthwiseConv2D)  (None, 112, 112, 32)      288       \n",
      "_________________________________________________________________\n",
      "conv_dw_1_bn (BatchNormaliza (None, 112, 112, 32)      128       \n",
      "_________________________________________________________________\n",
      "conv_dw_1_relu (Activation)  (None, 112, 112, 32)      0         \n",
      "_________________________________________________________________\n",
      "conv_pw_1 (Conv2D)           (None, 112, 112, 64)      2048      \n",
      "_________________________________________________________________\n",
      "conv_pw_1_bn (BatchNormaliza (None, 112, 112, 64)      256       \n",
      "_________________________________________________________________\n",
      "conv_pw_1_relu (Activation)  (None, 112, 112, 64)      0         \n",
      "_________________________________________________________________\n",
      "conv_pad_2 (ZeroPadding2D)   (None, 114, 114, 64)      0         \n",
      "_________________________________________________________________\n",
      "conv_dw_2 (DepthwiseConv2D)  (None, 56, 56, 64)        576       \n",
      "_________________________________________________________________\n",
      "conv_dw_2_bn (BatchNormaliza (None, 56, 56, 64)        256       \n",
      "_________________________________________________________________\n",
      "conv_dw_2_relu (Activation)  (None, 56, 56, 64)        0         \n",
      "_________________________________________________________________\n",
      "conv_pw_2 (Conv2D)           (None, 56, 56, 128)       8192      \n",
      "_________________________________________________________________\n",
      "conv_pw_2_bn (BatchNormaliza (None, 56, 56, 128)       512       \n",
      "_________________________________________________________________\n",
      "conv_pw_2_relu (Activation)  (None, 56, 56, 128)       0         \n",
      "_________________________________________________________________\n",
      "conv_pad_3 (ZeroPadding2D)   (None, 58, 58, 128)       0         \n",
      "_________________________________________________________________\n",
      "conv_dw_3 (DepthwiseConv2D)  (None, 56, 56, 128)       1152      \n",
      "_________________________________________________________________\n",
      "conv_dw_3_bn (BatchNormaliza (None, 56, 56, 128)       512       \n",
      "_________________________________________________________________\n",
      "conv_dw_3_relu (Activation)  (None, 56, 56, 128)       0         \n",
      "_________________________________________________________________\n",
      "conv_pw_3 (Conv2D)           (None, 56, 56, 128)       16384     \n",
      "_________________________________________________________________\n",
      "conv_pw_3_bn (BatchNormaliza (None, 56, 56, 128)       512       \n",
      "_________________________________________________________________\n",
      "conv_pw_3_relu (Activation)  (None, 56, 56, 128)       0         \n",
      "_________________________________________________________________\n",
      "conv_pad_4 (ZeroPadding2D)   (None, 58, 58, 128)       0         \n",
      "_________________________________________________________________\n",
      "conv_dw_4 (DepthwiseConv2D)  (None, 28, 28, 128)       1152      \n",
      "_________________________________________________________________\n",
      "conv_dw_4_bn (BatchNormaliza (None, 28, 28, 128)       512       \n",
      "_________________________________________________________________\n",
      "conv_dw_4_relu (Activation)  (None, 28, 28, 128)       0         \n",
      "_________________________________________________________________\n",
      "conv_pw_4 (Conv2D)           (None, 28, 28, 256)       32768     \n",
      "_________________________________________________________________\n",
      "conv_pw_4_bn (BatchNormaliza (None, 28, 28, 256)       1024      \n",
      "_________________________________________________________________\n",
      "conv_pw_4_relu (Activation)  (None, 28, 28, 256)       0         \n",
      "_________________________________________________________________\n",
      "conv_pad_5 (ZeroPadding2D)   (None, 30, 30, 256)       0         \n",
      "_________________________________________________________________\n",
      "conv_dw_5 (DepthwiseConv2D)  (None, 28, 28, 256)       2304      \n",
      "_________________________________________________________________\n",
      "conv_dw_5_bn (BatchNormaliza (None, 28, 28, 256)       1024      \n",
      "_________________________________________________________________\n",
      "conv_dw_5_relu (Activation)  (None, 28, 28, 256)       0         \n",
      "_________________________________________________________________\n",
      "conv_pw_5 (Conv2D)           (None, 28, 28, 256)       65536     \n",
      "_________________________________________________________________\n",
      "conv_pw_5_bn (BatchNormaliza (None, 28, 28, 256)       1024      \n",
      "_________________________________________________________________\n",
      "conv_pw_5_relu (Activation)  (None, 28, 28, 256)       0         \n",
      "_________________________________________________________________\n",
      "conv_pad_6 (ZeroPadding2D)   (None, 30, 30, 256)       0         \n",
      "_________________________________________________________________\n",
      "conv_dw_6 (DepthwiseConv2D)  (None, 14, 14, 256)       2304      \n",
      "_________________________________________________________________\n",
      "conv_dw_6_bn (BatchNormaliza (None, 14, 14, 256)       1024      \n",
      "_________________________________________________________________\n",
      "conv_dw_6_relu (Activation)  (None, 14, 14, 256)       0         \n",
      "_________________________________________________________________\n",
      "conv_pw_6 (Conv2D)           (None, 14, 14, 512)       131072    \n",
      "_________________________________________________________________\n",
      "conv_pw_6_bn (BatchNormaliza (None, 14, 14, 512)       2048      \n",
      "_________________________________________________________________\n",
      "conv_pw_6_relu (Activation)  (None, 14, 14, 512)       0         \n",
      "_________________________________________________________________\n",
      "conv_pad_7 (ZeroPadding2D)   (None, 16, 16, 512)       0         \n",
      "_________________________________________________________________\n",
      "conv_dw_7 (DepthwiseConv2D)  (None, 14, 14, 512)       4608      \n",
      "_________________________________________________________________\n",
      "conv_dw_7_bn (BatchNormaliza (None, 14, 14, 512)       2048      \n",
      "_________________________________________________________________\n",
      "conv_dw_7_relu (Activation)  (None, 14, 14, 512)       0         \n",
      "_________________________________________________________________\n",
      "conv_pw_7 (Conv2D)           (None, 14, 14, 512)       262144    \n",
      "_________________________________________________________________\n",
      "conv_pw_7_bn (BatchNormaliza (None, 14, 14, 512)       2048      \n",
      "_________________________________________________________________\n",
      "conv_pw_7_relu (Activation)  (None, 14, 14, 512)       0         \n",
      "_________________________________________________________________\n",
      "conv_pad_8 (ZeroPadding2D)   (None, 16, 16, 512)       0         \n",
      "_________________________________________________________________\n",
      "conv_dw_8 (DepthwiseConv2D)  (None, 14, 14, 512)       4608      \n",
      "_________________________________________________________________\n",
      "conv_dw_8_bn (BatchNormaliza (None, 14, 14, 512)       2048      \n",
      "_________________________________________________________________\n",
      "conv_dw_8_relu (Activation)  (None, 14, 14, 512)       0         \n",
      "_________________________________________________________________\n",
      "conv_pw_8 (Conv2D)           (None, 14, 14, 512)       262144    \n",
      "_________________________________________________________________\n",
      "conv_pw_8_bn (BatchNormaliza (None, 14, 14, 512)       2048      \n",
      "_________________________________________________________________\n",
      "conv_pw_8_relu (Activation)  (None, 14, 14, 512)       0         \n",
      "_________________________________________________________________\n",
      "conv_pad_9 (ZeroPadding2D)   (None, 16, 16, 512)       0         \n",
      "_________________________________________________________________\n",
      "conv_dw_9 (DepthwiseConv2D)  (None, 14, 14, 512)       4608      \n",
      "_________________________________________________________________\n",
      "conv_dw_9_bn (BatchNormaliza (None, 14, 14, 512)       2048      \n",
      "_________________________________________________________________\n",
      "conv_dw_9_relu (Activation)  (None, 14, 14, 512)       0         \n",
      "_________________________________________________________________\n",
      "conv_pw_9 (Conv2D)           (None, 14, 14, 512)       262144    \n",
      "_________________________________________________________________\n",
      "conv_pw_9_bn (BatchNormaliza (None, 14, 14, 512)       2048      \n",
      "_________________________________________________________________\n",
      "conv_pw_9_relu (Activation)  (None, 14, 14, 512)       0         \n",
      "_________________________________________________________________\n",
      "conv_pad_10 (ZeroPadding2D)  (None, 16, 16, 512)       0         \n",
      "_________________________________________________________________\n",
      "conv_dw_10 (DepthwiseConv2D) (None, 14, 14, 512)       4608      \n",
      "_________________________________________________________________\n",
      "conv_dw_10_bn (BatchNormaliz (None, 14, 14, 512)       2048      \n",
      "_________________________________________________________________\n",
      "conv_dw_10_relu (Activation) (None, 14, 14, 512)       0         \n",
      "_________________________________________________________________\n",
      "conv_pw_10 (Conv2D)          (None, 14, 14, 512)       262144    \n",
      "_________________________________________________________________\n",
      "conv_pw_10_bn (BatchNormaliz (None, 14, 14, 512)       2048      \n",
      "_________________________________________________________________\n",
      "conv_pw_10_relu (Activation) (None, 14, 14, 512)       0         \n",
      "_________________________________________________________________\n",
      "conv_pad_11 (ZeroPadding2D)  (None, 16, 16, 512)       0         \n",
      "_________________________________________________________________\n",
      "conv_dw_11 (DepthwiseConv2D) (None, 14, 14, 512)       4608      \n",
      "_________________________________________________________________\n",
      "conv_dw_11_bn (BatchNormaliz (None, 14, 14, 512)       2048      \n",
      "_________________________________________________________________\n",
      "conv_dw_11_relu (Activation) (None, 14, 14, 512)       0         \n",
      "_________________________________________________________________\n",
      "conv_pw_11 (Conv2D)          (None, 14, 14, 512)       262144    \n",
      "_________________________________________________________________\n",
      "conv_pw_11_bn (BatchNormaliz (None, 14, 14, 512)       2048      \n",
      "_________________________________________________________________\n",
      "conv_pw_11_relu (Activation) (None, 14, 14, 512)       0         \n",
      "_________________________________________________________________\n",
      "conv_pad_12 (ZeroPadding2D)  (None, 16, 16, 512)       0         \n",
      "_________________________________________________________________\n",
      "conv_dw_12 (DepthwiseConv2D) (None, 7, 7, 512)         4608      \n",
      "_________________________________________________________________\n",
      "conv_dw_12_bn (BatchNormaliz (None, 7, 7, 512)         2048      \n",
      "_________________________________________________________________\n",
      "conv_dw_12_relu (Activation) (None, 7, 7, 512)         0         \n",
      "_________________________________________________________________\n",
      "conv_pw_12 (Conv2D)          (None, 7, 7, 1024)        524288    \n",
      "_________________________________________________________________\n",
      "conv_pw_12_bn (BatchNormaliz (None, 7, 7, 1024)        4096      \n",
      "_________________________________________________________________\n",
      "conv_pw_12_relu (Activation) (None, 7, 7, 1024)        0         \n",
      "_________________________________________________________________\n",
      "conv_pad_13 (ZeroPadding2D)  (None, 9, 9, 1024)        0         \n",
      "_________________________________________________________________\n",
      "conv_dw_13 (DepthwiseConv2D) (None, 7, 7, 1024)        9216      \n",
      "_________________________________________________________________\n",
      "conv_dw_13_bn (BatchNormaliz (None, 7, 7, 1024)        4096      \n",
      "_________________________________________________________________\n",
      "conv_dw_13_relu (Activation) (None, 7, 7, 1024)        0         \n",
      "_________________________________________________________________\n",
      "conv_pw_13 (Conv2D)          (None, 7, 7, 1024)        1048576   \n",
      "_________________________________________________________________\n",
      "conv_pw_13_bn (BatchNormaliz (None, 7, 7, 1024)        4096      \n",
      "_________________________________________________________________\n",
      "conv_pw_13_relu (Activation) (None, 7, 7, 1024)        0         \n",
      "_________________________________________________________________\n",
      "global_average_pooling2d_1 ( (None, 1024)              0         \n",
      "_________________________________________________________________\n",
      "dense_1 (Dense)              (None, 4)                 4100      \n",
      "=================================================================\n",
      "Total params: 3,232,964\n",
      "Trainable params: 3,211,076\n",
      "Non-trainable params: 21,888\n",
      "_________________________________________________________________\n"
     ]
    }
   ],
   "source": [
    "model.summary()"
   ]
  },
  {
   "cell_type": "code",
   "execution_count": 19,
   "metadata": {
    "collapsed": true
   },
   "outputs": [],
   "source": [
    "for layer in model.layers[:-23]:\n",
    "    layer.trainable = False"
   ]
  },
  {
   "cell_type": "code",
   "execution_count": 20,
   "metadata": {
    "collapsed": true
   },
   "outputs": [],
   "source": [
    "model.compile(adam(lr=0.0001),loss='categorical_crossentropy',metrics=['accuracy'])"
   ]
  },
  {
   "cell_type": "code",
   "execution_count": 22,
   "metadata": {},
   "outputs": [
    {
     "name": "stdout",
     "output_type": "stream",
     "text": [
      "Epoch 1/100\n",
      " - 19s - loss: 0.0676 - acc: 0.9860 - val_loss: 1.5496 - val_acc: 0.4085\n",
      "Epoch 2/100\n",
      " - 19s - loss: 0.0635 - acc: 0.9820 - val_loss: 1.5384 - val_acc: 0.3099\n",
      "Epoch 3/100\n",
      " - 19s - loss: 0.0604 - acc: 0.9900 - val_loss: 1.0415 - val_acc: 0.7183\n",
      "Epoch 4/100\n",
      " - 18s - loss: 0.1025 - acc: 0.9700 - val_loss: 1.7325 - val_acc: 0.2676\n",
      "Epoch 5/100\n",
      " - 18s - loss: 0.0872 - acc: 0.9720 - val_loss: 1.9753 - val_acc: 0.2817\n",
      "Epoch 6/100\n",
      " - 18s - loss: 0.0970 - acc: 0.9640 - val_loss: 1.0751 - val_acc: 0.7042\n",
      "Epoch 7/100\n",
      " - 18s - loss: 0.0803 - acc: 0.9760 - val_loss: 1.5283 - val_acc: 0.2817\n",
      "Epoch 8/100\n",
      " - 18s - loss: 0.0963 - acc: 0.9780 - val_loss: 1.9241 - val_acc: 0.2535\n",
      "Epoch 9/100\n",
      " - 18s - loss: 0.0621 - acc: 0.9860 - val_loss: 1.6280 - val_acc: 0.4225\n",
      "Epoch 10/100\n",
      " - 18s - loss: 0.0674 - acc: 0.9780 - val_loss: 1.7443 - val_acc: 0.3099\n",
      "Epoch 11/100\n",
      " - 18s - loss: 0.0613 - acc: 0.9900 - val_loss: 1.2317 - val_acc: 0.5915\n",
      "Epoch 12/100\n",
      " - 18s - loss: 0.0673 - acc: 0.9900 - val_loss: 1.1017 - val_acc: 0.6479\n",
      "Epoch 13/100\n",
      " - 18s - loss: 0.0598 - acc: 0.9820 - val_loss: 0.9880 - val_acc: 0.7606\n",
      "Epoch 14/100\n",
      " - 18s - loss: 0.0560 - acc: 0.9800 - val_loss: 1.3465 - val_acc: 0.7324\n",
      "Epoch 15/100\n",
      " - 18s - loss: 0.0762 - acc: 0.9780 - val_loss: 1.1660 - val_acc: 0.7183\n",
      "Epoch 16/100\n",
      " - 19s - loss: 0.0529 - acc: 0.9860 - val_loss: 1.2021 - val_acc: 0.5352\n",
      "Epoch 17/100\n",
      " - 18s - loss: 0.0768 - acc: 0.9780 - val_loss: 1.3275 - val_acc: 0.3803\n",
      "Epoch 18/100\n",
      " - 18s - loss: 0.0826 - acc: 0.9760 - val_loss: 1.3703 - val_acc: 0.4085\n",
      "Epoch 19/100\n",
      " - 18s - loss: 0.0747 - acc: 0.9760 - val_loss: 1.2310 - val_acc: 0.4930\n",
      "Epoch 20/100\n",
      " - 19s - loss: 0.0501 - acc: 0.9880 - val_loss: 1.0794 - val_acc: 0.7324\n",
      "Epoch 21/100\n",
      " - 18s - loss: 0.0517 - acc: 0.9840 - val_loss: 2.8304 - val_acc: 0.2535\n",
      "Epoch 22/100\n",
      " - 18s - loss: 0.0446 - acc: 0.9860 - val_loss: 2.0964 - val_acc: 0.3239\n",
      "Epoch 23/100\n",
      " - 18s - loss: 0.0635 - acc: 0.9820 - val_loss: 1.2676 - val_acc: 0.6479\n",
      "Epoch 24/100\n",
      " - 18s - loss: 0.0409 - acc: 0.9860 - val_loss: 1.2538 - val_acc: 0.7465\n",
      "Epoch 25/100\n",
      " - 18s - loss: 0.0427 - acc: 0.9880 - val_loss: 1.1364 - val_acc: 0.7324\n",
      "Epoch 26/100\n",
      " - 18s - loss: 0.0386 - acc: 0.9920 - val_loss: 1.3683 - val_acc: 0.7465\n",
      "Epoch 27/100\n",
      " - 18s - loss: 0.0759 - acc: 0.9720 - val_loss: 1.4937 - val_acc: 0.5352\n",
      "Epoch 28/100\n",
      " - 18s - loss: 0.0558 - acc: 0.9880 - val_loss: 1.2382 - val_acc: 0.7465\n",
      "Epoch 29/100\n",
      " - 18s - loss: 0.0398 - acc: 0.9880 - val_loss: 1.3086 - val_acc: 0.6479\n",
      "Epoch 30/100\n",
      " - 18s - loss: 0.0449 - acc: 0.9820 - val_loss: 1.4359 - val_acc: 0.7042\n",
      "Epoch 31/100\n",
      " - 18s - loss: 0.0253 - acc: 0.9960 - val_loss: 1.4091 - val_acc: 0.6338\n",
      "Epoch 32/100\n",
      " - 18s - loss: 0.0396 - acc: 0.9860 - val_loss: 1.2309 - val_acc: 0.5493\n",
      "Epoch 33/100\n",
      " - 18s - loss: 0.0340 - acc: 0.9920 - val_loss: 1.0966 - val_acc: 0.5211\n",
      "Epoch 34/100\n",
      " - 18s - loss: 0.0351 - acc: 0.9860 - val_loss: 1.2104 - val_acc: 0.7042\n",
      "Epoch 35/100\n",
      " - 18s - loss: 0.0477 - acc: 0.9860 - val_loss: 1.1121 - val_acc: 0.6901\n",
      "Epoch 36/100\n",
      " - 18s - loss: 0.0732 - acc: 0.9780 - val_loss: 1.5157 - val_acc: 0.5634\n",
      "Epoch 37/100\n",
      " - 18s - loss: 0.0591 - acc: 0.9740 - val_loss: 1.9254 - val_acc: 0.7183\n",
      "Epoch 38/100\n",
      " - 18s - loss: 0.0451 - acc: 0.9880 - val_loss: 1.5400 - val_acc: 0.5634\n",
      "Epoch 39/100\n",
      " - 18s - loss: 0.0407 - acc: 0.9880 - val_loss: 1.3321 - val_acc: 0.6197\n",
      "Epoch 40/100\n",
      " - 18s - loss: 0.0255 - acc: 0.9940 - val_loss: 1.1982 - val_acc: 0.6056\n",
      "Epoch 41/100\n",
      " - 18s - loss: 0.0185 - acc: 1.0000 - val_loss: 1.8723 - val_acc: 0.3239\n",
      "Epoch 42/100\n",
      " - 18s - loss: 0.0253 - acc: 0.9980 - val_loss: 1.2945 - val_acc: 0.4648\n",
      "Epoch 43/100\n",
      " - 18s - loss: 0.0323 - acc: 0.9900 - val_loss: 1.2391 - val_acc: 0.7183\n",
      "Epoch 44/100\n",
      " - 18s - loss: 0.0272 - acc: 0.9940 - val_loss: 0.9334 - val_acc: 0.7746\n",
      "Epoch 45/100\n",
      " - 18s - loss: 0.0234 - acc: 0.9940 - val_loss: 1.5896 - val_acc: 0.4085\n",
      "Epoch 46/100\n",
      " - 18s - loss: 0.0636 - acc: 0.9820 - val_loss: 1.2585 - val_acc: 0.5634\n",
      "Epoch 47/100\n",
      " - 18s - loss: 0.0227 - acc: 0.9960 - val_loss: 1.8063 - val_acc: 0.3521\n",
      "Epoch 48/100\n",
      " - 18s - loss: 0.0457 - acc: 0.9840 - val_loss: 2.9028 - val_acc: 0.2535\n",
      "Epoch 49/100\n",
      " - 18s - loss: 0.0527 - acc: 0.9880 - val_loss: 1.9178 - val_acc: 0.2817\n",
      "Epoch 50/100\n",
      " - 19s - loss: 0.0136 - acc: 1.0000 - val_loss: 2.9183 - val_acc: 0.1972\n",
      "Epoch 51/100\n",
      " - 20s - loss: 0.0357 - acc: 0.9920 - val_loss: 2.0555 - val_acc: 0.2958\n",
      "Epoch 52/100\n",
      " - 19s - loss: 0.0339 - acc: 0.9900 - val_loss: 3.1724 - val_acc: 0.2254\n",
      "Epoch 53/100\n",
      " - 18s - loss: 0.0165 - acc: 0.9980 - val_loss: 2.4563 - val_acc: 0.2535\n",
      "Epoch 54/100\n",
      " - 18s - loss: 0.0496 - acc: 0.9880 - val_loss: 4.6059 - val_acc: 0.2113\n",
      "Epoch 55/100\n",
      " - 18s - loss: 0.0529 - acc: 0.9800 - val_loss: 1.3400 - val_acc: 0.7465\n",
      "Epoch 56/100\n",
      " - 18s - loss: 0.0340 - acc: 0.9860 - val_loss: 1.8378 - val_acc: 0.3380\n",
      "Epoch 57/100\n",
      " - 18s - loss: 0.0378 - acc: 0.9900 - val_loss: 1.3152 - val_acc: 0.7746\n",
      "Epoch 58/100\n",
      " - 18s - loss: 0.0516 - acc: 0.9860 - val_loss: 1.8397 - val_acc: 0.4225\n",
      "Epoch 59/100\n",
      " - 18s - loss: 0.0399 - acc: 0.9840 - val_loss: 1.5290 - val_acc: 0.7324\n",
      "Epoch 60/100\n",
      " - 18s - loss: 0.0297 - acc: 0.9920 - val_loss: 1.1998 - val_acc: 0.7183\n",
      "Epoch 61/100\n",
      " - 18s - loss: 0.0117 - acc: 1.0000 - val_loss: 1.1897 - val_acc: 0.7606\n",
      "Epoch 62/100\n",
      " - 18s - loss: 0.0363 - acc: 0.9860 - val_loss: 1.2113 - val_acc: 0.6901\n",
      "Epoch 63/100\n",
      " - 18s - loss: 0.0197 - acc: 0.9920 - val_loss: 2.3369 - val_acc: 0.2394\n",
      "Epoch 64/100\n",
      " - 18s - loss: 0.0359 - acc: 0.9900 - val_loss: 1.9083 - val_acc: 0.2817\n",
      "Epoch 65/100\n",
      " - 18s - loss: 0.0320 - acc: 0.9880 - val_loss: 2.1181 - val_acc: 0.4085\n",
      "Epoch 66/100\n",
      " - 18s - loss: 0.0395 - acc: 0.9900 - val_loss: 4.6087 - val_acc: 0.2113\n",
      "Epoch 67/100\n",
      " - 20s - loss: 0.0154 - acc: 0.9980 - val_loss: 2.5469 - val_acc: 0.3239\n",
      "Epoch 68/100\n",
      " - 21s - loss: 0.0190 - acc: 0.9940 - val_loss: 2.1442 - val_acc: 0.3803\n",
      "Epoch 69/100\n",
      " - 21s - loss: 0.0352 - acc: 0.9860 - val_loss: 3.6113 - val_acc: 0.2254\n",
      "Epoch 70/100\n",
      " - 21s - loss: 0.0156 - acc: 0.9960 - val_loss: 1.5071 - val_acc: 0.5352\n",
      "Epoch 71/100\n",
      " - 20s - loss: 0.0236 - acc: 0.9920 - val_loss: 1.2803 - val_acc: 0.6761\n",
      "Epoch 72/100\n",
      " - 19s - loss: 0.0213 - acc: 0.9960 - val_loss: 1.4915 - val_acc: 0.6056\n",
      "Epoch 73/100\n",
      " - 21s - loss: 0.0323 - acc: 0.9920 - val_loss: 1.2688 - val_acc: 0.6338\n",
      "Epoch 74/100\n",
      " - 22s - loss: 0.0124 - acc: 1.0000 - val_loss: 2.3630 - val_acc: 0.2817\n",
      "Epoch 75/100\n",
      " - 21s - loss: 0.0250 - acc: 0.9920 - val_loss: 2.3752 - val_acc: 0.2676\n",
      "Epoch 76/100\n",
      " - 22s - loss: 0.0356 - acc: 0.9860 - val_loss: 1.8995 - val_acc: 0.3662\n",
      "Epoch 77/100\n",
      " - 21s - loss: 0.0192 - acc: 0.9920 - val_loss: 1.6668 - val_acc: 0.5211\n",
      "Epoch 78/100\n",
      " - 21s - loss: 0.0451 - acc: 0.9820 - val_loss: 2.4612 - val_acc: 0.3662\n",
      "Epoch 79/100\n",
      " - 21s - loss: 0.0374 - acc: 0.9880 - val_loss: 4.1896 - val_acc: 0.2113\n",
      "Epoch 80/100\n",
      " - 21s - loss: 0.0172 - acc: 0.9960 - val_loss: 1.4920 - val_acc: 0.6479\n",
      "Epoch 81/100\n",
      " - 21s - loss: 0.0188 - acc: 0.9960 - val_loss: 2.0163 - val_acc: 0.4507\n",
      "Epoch 82/100\n",
      " - 18s - loss: 0.0246 - acc: 0.9880 - val_loss: 2.7059 - val_acc: 0.2958\n",
      "Epoch 83/100\n",
      " - 20s - loss: 0.0071 - acc: 1.0000 - val_loss: 1.4725 - val_acc: 0.6197\n",
      "Epoch 84/100\n",
      " - 19s - loss: 0.0404 - acc: 0.9840 - val_loss: 2.1123 - val_acc: 0.3662\n",
      "Epoch 85/100\n",
      " - 19s - loss: 0.0138 - acc: 0.9960 - val_loss: 1.7655 - val_acc: 0.4366\n",
      "Epoch 86/100\n",
      " - 18s - loss: 0.0347 - acc: 0.9880 - val_loss: 2.6954 - val_acc: 0.2676\n",
      "Epoch 87/100\n",
      " - 19s - loss: 0.0237 - acc: 0.9920 - val_loss: 2.8928 - val_acc: 0.2535\n",
      "Epoch 88/100\n",
      " - 20s - loss: 0.0102 - acc: 0.9980 - val_loss: 2.6773 - val_acc: 0.2676\n",
      "Epoch 89/100\n",
      " - 19s - loss: 0.0251 - acc: 0.9920 - val_loss: 2.1982 - val_acc: 0.3099\n",
      "Epoch 90/100\n",
      " - 18s - loss: 0.0234 - acc: 0.9940 - val_loss: 3.6090 - val_acc: 0.1972\n",
      "Epoch 91/100\n",
      " - 18s - loss: 0.0256 - acc: 0.9900 - val_loss: 4.1349 - val_acc: 0.2254\n",
      "Epoch 92/100\n",
      " - 18s - loss: 0.0158 - acc: 0.9960 - val_loss: 1.9301 - val_acc: 0.3803\n",
      "Epoch 93/100\n",
      " - 19s - loss: 0.0184 - acc: 0.9940 - val_loss: 1.4383 - val_acc: 0.6901\n",
      "Epoch 94/100\n",
      " - 19s - loss: 0.0118 - acc: 0.9980 - val_loss: 1.3056 - val_acc: 0.7606\n",
      "Epoch 95/100\n",
      " - 20s - loss: 0.0223 - acc: 0.9920 - val_loss: 1.2179 - val_acc: 0.7746\n",
      "Epoch 96/100\n",
      " - 19s - loss: 0.0232 - acc: 0.9900 - val_loss: 1.2171 - val_acc: 0.7606\n"
     ]
    },
    {
     "name": "stdout",
     "output_type": "stream",
     "text": [
      "Epoch 97/100\n",
      " - 19s - loss: 0.0183 - acc: 0.9940 - val_loss: 1.9891 - val_acc: 0.3099\n",
      "Epoch 98/100\n",
      " - 19s - loss: 0.0096 - acc: 1.0000 - val_loss: 1.1781 - val_acc: 0.5915\n",
      "Epoch 99/100\n",
      " - 19s - loss: 0.0412 - acc: 0.9840 - val_loss: 1.1024 - val_acc: 0.6620\n",
      "Epoch 100/100\n",
      " - 19s - loss: 0.0197 - acc: 0.9940 - val_loss: 1.1307 - val_acc: 0.6620\n"
     ]
    },
    {
     "data": {
      "text/plain": [
       "<keras.callbacks.History at 0x7f35ea8f36d8>"
      ]
     },
     "execution_count": 22,
     "metadata": {},
     "output_type": "execute_result"
    }
   ],
   "source": [
    "model.fit_generator(train_batches,steps_per_epoch=50,validation_data=valid_batches,epochs=100,verbose=2)"
   ]
  },
  {
   "cell_type": "code",
   "execution_count": 23,
   "metadata": {
    "collapsed": true
   },
   "outputs": [],
   "source": [
    "test_lables=test_batches.classes"
   ]
  },
  {
   "cell_type": "code",
   "execution_count": 25,
   "metadata": {
    "collapsed": true
   },
   "outputs": [],
   "source": [
    "predictions = model.predict_generator(test_batches)"
   ]
  },
  {
   "cell_type": "code",
   "execution_count": 26,
   "metadata": {
    "collapsed": true
   },
   "outputs": [],
   "source": [
    "cm= confusion_matrix(test_lables,predictions.argmax(axis=1))"
   ]
  },
  {
   "cell_type": "code",
   "execution_count": 27,
   "metadata": {},
   "outputs": [
    {
     "data": {
      "text/plain": [
       "{'EOSINOPHIL': 0, 'LYMPHOCYTE': 1, 'MONOCYTE': 2, 'NEUTROPHIL': 3}"
      ]
     },
     "execution_count": 27,
     "metadata": {},
     "output_type": "execute_result"
    }
   ],
   "source": [
    "test_batches.class_indices"
   ]
  },
  {
   "cell_type": "code",
   "execution_count": 28,
   "metadata": {
    "collapsed": true
   },
   "outputs": [],
   "source": [
    "def plot_confusion_matrix(cm, classes,\n",
    "                          normalize=False,\n",
    "                          title='Confusion matrix',\n",
    "                          cmap=plt.cm.Blues):\n",
    "    \"\"\"\n",
    "    This function prints and plots the confusion matrix.\n",
    "    Normalization can be applied by setting `normalize=True`.\n",
    "    \"\"\"\n",
    "    if normalize:\n",
    "        cm = cm.astype('float') / cm.sum(axis=1)[:, np.newaxis]\n",
    "        print(\"Normalized confusion matrix\")\n",
    "    else:\n",
    "        print('Confusion matrix, without normalization')\n",
    "\n",
    "    print(cm)\n",
    "\n",
    "    plt.imshow(cm, interpolation='nearest', cmap=cmap)\n",
    "    plt.title(title)\n",
    "    plt.colorbar()\n",
    "    tick_marks = np.arange(len(classes))\n",
    "    plt.xticks(tick_marks, classes, rotation=45)\n",
    "    plt.yticks(tick_marks, classes)\n",
    "\n",
    "    fmt = '.2f' if normalize else 'd'\n",
    "    thresh = cm.max() / 2.\n",
    "    for i, j in itertools.product(range(cm.shape[0]), range(cm.shape[1])):\n",
    "        plt.text(j, i, format(cm[i, j], fmt),\n",
    "                 horizontalalignment=\"center\",\n",
    "                 color=\"white\" if cm[i, j] > thresh else \"black\")\n",
    "\n",
    "    plt.ylabel('True label')\n",
    "    plt.xlabel('Predicted label')\n",
    "    plt.tight_layout()"
   ]
  },
  {
   "cell_type": "code",
   "execution_count": 29,
   "metadata": {},
   "outputs": [
    {
     "name": "stdout",
     "output_type": "stream",
     "text": [
      "Confusion matrix, without normalization\n",
      "[[313  20   0 290]\n",
      " [ 74 455   0  91]\n",
      " [ 37   0  19 564]\n",
      " [132  25   0 467]]\n"
     ]
    },
    {
     "data": {
      "image/png": "[encoded data removed]",
      "text/plain": [
       "<matplotlib.figure.Figure at 0x7f35eaa3d8d0>"
      ]
     },
     "metadata": {},
     "output_type": "display_data"
    }
   ],
   "source": [
    "cm_plot_lables = ['0','1','2','3']\n",
    "plot_confusion_matrix(cm,cm_plot_lables,title='Confusion Matrix')"
   ]
  },
  {
   "cell_type": "markdown",
   "metadata": {},
   "source": [
    "# Saving model as h5"
   ]
  },
  {
   "cell_type": "code",
   "execution_count": 31,
   "metadata": {},
   "outputs": [
    {
     "name": "stdout",
     "output_type": "stream",
     "text": [
      "Saved model to disk\n"
     ]
    }
   ],
   "source": [
    "from keras.models import model_from_json\n",
    "\n",
    "model_json = model.to_json()\n",
    "with open(\"bloodcells.json\", \"w\") as json_file:\n",
    "    json_file.write(model_json)\n",
    "# serialize weights to HDF5\n",
    "model.save_weights(\"bloodcells.h5\")\n",
    "print(\"Saved model to disk\")"
   ]
  },
  {
   "cell_type": "markdown",
   "metadata": {},
   "source": [
    "# Load model"
   ]
  },
  {
   "cell_type": "code",
   "execution_count": 35,
   "metadata": {},
   "outputs": [
    {
     "name": "stdout",
     "output_type": "stream",
     "text": [
      "Loaded model from disk\n"
     ]
    }
   ],
   "source": [
    "# load weights into new model\n",
    "model.load_weights(\"bloodcells.h5\")\n",
    "print(\"Loaded model from disk\")"
   ]
  },
  {
   "cell_type": "code",
   "execution_count": null,
   "metadata": {
    "collapsed": true
   },
   "outputs": [],
   "source": []
  }
 ],
 "metadata": {
  "kernelspec": {
   "display_name": "Python 3",
   "language": "python",
   "name": "python3"
  },
  "language_info": {
   "codemirror_mode": {
    "name": "ipython",
    "version": 3
   },
   "file_extension": ".py",
   "mimetype": "text/x-python",
   "name": "python",
   "nbconvert_exporter": "python",
   "pygments_lexer": "ipython3",
   "version": "3.6.2"
  }
 },
 "nbformat": 4,
 "nbformat_minor": 2
}
